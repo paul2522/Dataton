{
 "cells": [
  {
   "cell_type": "markdown",
   "metadata": {},
   "source": [
    "# Dataton Aiffel\n",
    "* Group : EagleAI\n",
    "* Dataset : 영화관 입장권 통합 전산망\n",
    "* Name : 김용훈(Kim yonghun)"
   ]
  },
  {
   "cell_type": "markdown",
   "metadata": {},
   "source": [
    "## Contents"
   ]
  },
  {
   "cell_type": "markdown",
   "metadata": {},
   "source": [
    "1. Import libraries & load dataset\n",
    "2. Data EDA\n",
    "3. Data preprocessing\n",
    "4. Visualization of first idea"
   ]
  },
  {
   "cell_type": "markdown",
   "metadata": {},
   "source": [
    "## 1. Import libraries & load dataset"
   ]
  },
  {
   "cell_type": "markdown",
   "metadata": {},
   "source": [
    "* if want to show korean on matplotlib, command annotation lines on termianl \n",
    "* set kor font in matplotlib using 'rc' function (나눔 고딕)"
   ]
  },
  {
   "cell_type": "code",
   "execution_count": 2,
   "metadata": {},
   "outputs": [],
   "source": [
    "import pandas as pd\n",
    "import numpy as np\n",
    "import matplotlib.pyplot as plt\n",
    "import seaborn as sns\n",
    "import dataframe_image as dfi\n",
    "\n",
    "# !sudo apt-get install -y fonts-nanum\n",
    "# !sudo fc-cache -fv\n",
    "# !rm ~/.cache/matplotlib -rf\n",
    "\n",
    "plt.rc('font', family='NanumBarunGothic')"
   ]
  },
  {
   "cell_type": "markdown",
   "metadata": {},
   "source": [
    "* load dataset\n",
    "* show dataset shape and head"
   ]
  },
  {
   "cell_type": "code",
   "execution_count": 3,
   "metadata": {},
   "outputs": [
    {
     "name": "stdout",
     "output_type": "stream",
     "text": [
      "(26197, 18)\n"
     ]
    },
    {
     "data": {
      "text/html": [
       "<div>\n",
       "<style scoped>\n",
       "    .dataframe tbody tr th:only-of-type {\n",
       "        vertical-align: middle;\n",
       "    }\n",
       "\n",
       "    .dataframe tbody tr th {\n",
       "        vertical-align: top;\n",
       "    }\n",
       "\n",
       "    .dataframe thead th {\n",
       "        text-align: right;\n",
       "    }\n",
       "</style>\n",
       "<table border=\"1\" class=\"dataframe\">\n",
       "  <thead>\n",
       "    <tr style=\"text-align: right;\">\n",
       "      <th></th>\n",
       "      <th>ID</th>\n",
       "      <th>Movie_Name</th>\n",
       "      <th>Director</th>\n",
       "      <th>Production_Company</th>\n",
       "      <th>Import_Company</th>\n",
       "      <th>Distributing_Agency</th>\n",
       "      <th>Release_Date</th>\n",
       "      <th>Movie_Type</th>\n",
       "      <th>Movie_Form</th>\n",
       "      <th>Nationality</th>\n",
       "      <th>National_number_screens</th>\n",
       "      <th>National_Sales</th>\n",
       "      <th>National_Audience</th>\n",
       "      <th>Seoul_Sales</th>\n",
       "      <th>Seoul_Audience</th>\n",
       "      <th>Genre</th>\n",
       "      <th>Rating</th>\n",
       "      <th>Movie_Classification</th>\n",
       "    </tr>\n",
       "  </thead>\n",
       "  <tbody>\n",
       "    <tr>\n",
       "      <th>0</th>\n",
       "      <td>1</td>\n",
       "      <td>명량</td>\n",
       "      <td>김한민</td>\n",
       "      <td>(주)빅스톤픽쳐스</td>\n",
       "      <td>NaN</td>\n",
       "      <td>(주)씨제이이엔엠</td>\n",
       "      <td>2014-07-30</td>\n",
       "      <td>개봉영화</td>\n",
       "      <td>장편</td>\n",
       "      <td>한국</td>\n",
       "      <td>1,587</td>\n",
       "      <td>135,748,398,910</td>\n",
       "      <td>17,613,682</td>\n",
       "      <td>33,121,225,810</td>\n",
       "      <td>4,163,666</td>\n",
       "      <td>사극</td>\n",
       "      <td>15세이상관람가</td>\n",
       "      <td>일반영화</td>\n",
       "    </tr>\n",
       "    <tr>\n",
       "      <th>1</th>\n",
       "      <td>2</td>\n",
       "      <td>아바타</td>\n",
       "      <td>제임스 카메론</td>\n",
       "      <td>이십세기폭스필름코퍼레이션</td>\n",
       "      <td>주식회사 해리슨앤컴퍼니,이십세기폭스코리아(주)</td>\n",
       "      <td>주식회사 해리슨앤컴퍼니,이십세기폭스코리아(주)</td>\n",
       "      <td>2009-12-17</td>\n",
       "      <td>개봉영화</td>\n",
       "      <td>장편</td>\n",
       "      <td>미국</td>\n",
       "      <td>912</td>\n",
       "      <td>128,447,097,523</td>\n",
       "      <td>13,624,328</td>\n",
       "      <td>40,547,523,000</td>\n",
       "      <td>3,993,374</td>\n",
       "      <td>SF</td>\n",
       "      <td>12세이상관람가</td>\n",
       "      <td>독립/예술영화</td>\n",
       "    </tr>\n",
       "    <tr>\n",
       "      <th>2</th>\n",
       "      <td>3</td>\n",
       "      <td>왕의 남자</td>\n",
       "      <td>이준익</td>\n",
       "      <td>(주)씨네월드,(주)이글픽쳐스</td>\n",
       "      <td>NaN</td>\n",
       "      <td>(주)시네마서비스</td>\n",
       "      <td>2005-12-29</td>\n",
       "      <td>개봉영화</td>\n",
       "      <td>장편</td>\n",
       "      <td>한국</td>\n",
       "      <td>0</td>\n",
       "      <td>0</td>\n",
       "      <td>12,302,831</td>\n",
       "      <td>0</td>\n",
       "      <td>3,660,842</td>\n",
       "      <td>드라마</td>\n",
       "      <td>15세이상관람가</td>\n",
       "      <td>일반영화</td>\n",
       "    </tr>\n",
       "    <tr>\n",
       "      <th>3</th>\n",
       "      <td>4</td>\n",
       "      <td>극한직업</td>\n",
       "      <td>이병헌</td>\n",
       "      <td>(주)어바웃잇,영화사 해그림 주식회사,(주)씨제이이엔엠</td>\n",
       "      <td>NaN</td>\n",
       "      <td>(주)씨제이이엔엠</td>\n",
       "      <td>2019-01-23</td>\n",
       "      <td>개봉영화</td>\n",
       "      <td>장편</td>\n",
       "      <td>한국</td>\n",
       "      <td>1,978</td>\n",
       "      <td>139,647,979,516</td>\n",
       "      <td>16,264,944</td>\n",
       "      <td>31,858,660,536</td>\n",
       "      <td>3,638,287</td>\n",
       "      <td>코미디</td>\n",
       "      <td>15세이상관람가</td>\n",
       "      <td>일반영화</td>\n",
       "    </tr>\n",
       "    <tr>\n",
       "      <th>4</th>\n",
       "      <td>5</td>\n",
       "      <td>어벤져스: 엔드게임</td>\n",
       "      <td>안소니 루소,조 루소</td>\n",
       "      <td>NaN</td>\n",
       "      <td>월트디즈니컴퍼니코리아 유한책임회사</td>\n",
       "      <td>월트디즈니컴퍼니코리아 유한책임회사</td>\n",
       "      <td>2019-04-24</td>\n",
       "      <td>개봉영화</td>\n",
       "      <td>장편</td>\n",
       "      <td>미국</td>\n",
       "      <td>2,835</td>\n",
       "      <td>122,182,694,160</td>\n",
       "      <td>13,934,592</td>\n",
       "      <td>33,577,136,860</td>\n",
       "      <td>3,597,963</td>\n",
       "      <td>액션</td>\n",
       "      <td>12세이상관람가</td>\n",
       "      <td>일반영화</td>\n",
       "    </tr>\n",
       "  </tbody>\n",
       "</table>\n",
       "</div>"
      ],
      "text/plain": [
       "   ID  Movie_Name     Director              Production_Company  \\\n",
       "0   1          명량          김한민                       (주)빅스톤픽쳐스   \n",
       "1   2         아바타      제임스 카메론                   이십세기폭스필름코퍼레이션   \n",
       "2   3       왕의 남자          이준익                (주)씨네월드,(주)이글픽쳐스   \n",
       "3   4        극한직업          이병헌  (주)어바웃잇,영화사 해그림 주식회사,(주)씨제이이엔엠   \n",
       "4   5  어벤져스: 엔드게임  안소니 루소,조 루소                             NaN   \n",
       "\n",
       "              Import_Company        Distributing_Agency Release_Date  \\\n",
       "0                        NaN                  (주)씨제이이엔엠   2014-07-30   \n",
       "1  주식회사 해리슨앤컴퍼니,이십세기폭스코리아(주)  주식회사 해리슨앤컴퍼니,이십세기폭스코리아(주)   2009-12-17   \n",
       "2                        NaN                  (주)시네마서비스   2005-12-29   \n",
       "3                        NaN                  (주)씨제이이엔엠   2019-01-23   \n",
       "4         월트디즈니컴퍼니코리아 유한책임회사         월트디즈니컴퍼니코리아 유한책임회사   2019-04-24   \n",
       "\n",
       "  Movie_Type Movie_Form Nationality National_number_screens   National_Sales  \\\n",
       "0       개봉영화         장편          한국                   1,587  135,748,398,910   \n",
       "1       개봉영화         장편          미국                     912  128,447,097,523   \n",
       "2       개봉영화         장편          한국                       0                0   \n",
       "3       개봉영화         장편          한국                   1,978  139,647,979,516   \n",
       "4       개봉영화         장편          미국                   2,835  122,182,694,160   \n",
       "\n",
       "  National_Audience     Seoul_Sales Seoul_Audience Genre    Rating  \\\n",
       "0        17,613,682  33,121,225,810      4,163,666    사극  15세이상관람가   \n",
       "1        13,624,328  40,547,523,000      3,993,374    SF  12세이상관람가   \n",
       "2        12,302,831               0      3,660,842   드라마  15세이상관람가   \n",
       "3        16,264,944  31,858,660,536      3,638,287   코미디  15세이상관람가   \n",
       "4        13,934,592  33,577,136,860      3,597,963    액션  12세이상관람가   \n",
       "\n",
       "  Movie_Classification  \n",
       "0                 일반영화  \n",
       "1              독립/예술영화  \n",
       "2                 일반영화  \n",
       "3                 일반영화  \n",
       "4                 일반영화  "
      ]
     },
     "execution_count": 3,
     "metadata": {},
     "output_type": "execute_result"
    }
   ],
   "source": [
    "data = pd.read_csv('KOBIS.csv')\n",
    "print(data.shape)\n",
    "data.head()\n",
    "\n",
    "# dfi.export(data.head(), 'graph/kyh_d_1.png')"
   ]
  },
  {
   "cell_type": "markdown",
   "metadata": {},
   "source": [
    "## 2. Data EDA (Original Data)"
   ]
  },
  {
   "cell_type": "markdown",
   "metadata": {},
   "source": [
    "중점적으로 볼 columns \n",
    "* Movie_Name \n",
    "* Relase_Date\n",
    "* Nationality\n",
    "* National_Sales\n",
    "* National_Audience\n",
    "* Rating"
   ]
  },
  {
   "cell_type": "code",
   "execution_count": 4,
   "metadata": {},
   "outputs": [
    {
     "name": "stdout",
     "output_type": "stream",
     "text": [
      "(26197, 18)\n",
      "(18,)\n",
      "(6,)\n"
     ]
    },
    {
     "name": "stderr",
     "output_type": "stream",
     "text": [
      "/tmp/ipykernel_8633/4144871228.py:9: UserWarning: FixedFormatter should only be used together with FixedLocator\n",
      "  ax1.set_xticklabels(data_show.index, fontsize= 5)\n"
     ]
    },
    {
     "data": {
      "text/plain": [
       "<AxesSubplot:>"
      ]
     },
     "execution_count": 4,
     "metadata": {},
     "output_type": "execute_result"
    },
    {
     "data": {
      "image/png": "[encoded data removed]",
      "text/plain": [
       "<Figure size 1080x576 with 2 Axes>"
      ]
     },
     "metadata": {
      "needs_background": "light"
     },
     "output_type": "display_data"
    }
   ],
   "source": [
    "col_use = ['Movie_Name', 'Release_Date', 'Nationality', 'National_Sales', 'National_Audience', 'Rating']\n",
    "data_show = data.describe(include='all').loc['unique']\n",
    "data_show_use = data.describe(include='all').loc['unique', col_use]\n",
    "print(data.shape)\n",
    "print(data_show.shape)\n",
    "print(data_show_use.shape)\n",
    "\n",
    "fig, (ax1, ax2) = plt.subplots(2,figsize=(15, 8))\n",
    "ax1.set_xticklabels(data_show.index, fontsize= 5)\n",
    "sns.barplot(x = data_show.index , y = data_show.values, ax = ax1)\n",
    "sns.barplot(x = data_show_use.index , y = data_show_use.values, ax = ax2)\n",
    "\n",
    "# dfi.export(data[col_use].head(), 'graph/kyh_d_2_colum_explain.png')"
   ]
  },
  {
   "cell_type": "markdown",
   "metadata": {},
   "source": [
    "## 2. Data EDA (null)"
   ]
  },
  {
   "cell_type": "markdown",
   "metadata": {},
   "source": [
    "* Check how many rows have null values.\n",
    "* Visualization counts of null values in rows"
   ]
  },
  {
   "cell_type": "code",
   "execution_count": 4,
   "metadata": {},
   "outputs": [
    {
     "name": "stdout",
     "output_type": "stream",
     "text": [
      "Counts of rows having null values : 25179\n",
      "Counts of rows having null values over 4 : 238\n"
     ]
    },
    {
     "data": {
      "image/png": "[encoded data removed]",
      "text/plain": [
       "<Figure size 576x576 with 2 Axes>"
      ]
     },
     "metadata": {
      "needs_background": "light"
     },
     "output_type": "display_data"
    }
   ],
   "source": [
    "data_null = data.isnull().sum(axis = 1)\n",
    "data_null = data_null[data_null.values > 0 ]\n",
    "print(\"Counts of rows having null values :\", len(data_null))\n",
    "data_null2 = data_null[data_null.values > 4]\n",
    "print(\"Counts of rows having null values over 4 :\", len(data_null2))\n",
    "\n",
    "fig, ax = plt.subplots(2,1,constrained_layout=True, figsize = (8,8))\n",
    "ax[0].set_title(\"NULL 값 개수별 행의 갯수\")\n",
    "sns.histplot(x=data_null.values, ax = ax[0], bins=20)\n",
    "ax[0].set_ylabel('row count')\n",
    "ax[1].set_title(\"NULL 값을 5개 이상 가지는 행의 갯수\")\n",
    "sns.histplot(x=data_null2.values, ax = ax[1], bins=20)\n",
    "ax[1].set_ylabel('row count')\n",
    "\n",
    "plt.show()"
   ]
  },
  {
   "cell_type": "markdown",
   "metadata": {},
   "source": [
    "* Check which columns have null values."
   ]
  },
  {
   "cell_type": "code",
   "execution_count": 5,
   "metadata": {},
   "outputs": [
    {
     "data": {
      "text/plain": [
       "Index(['Director', 'Production_Company', 'Import_Company',\n",
       "       'Distributing_Agency', 'Release_Date', 'Movie_Form', 'Nationality',\n",
       "       'National_Sales', 'Seoul_Sales', 'Genre', 'Rating'],\n",
       "      dtype='object')"
      ]
     },
     "execution_count": 5,
     "metadata": {},
     "output_type": "execute_result"
    }
   ],
   "source": [
    "data_null = data.isnull().any()\n",
    "data_null = data_null[data_null.values == True]\n",
    "data_null_col = data_null.index\n",
    "data_null_col"
   ]
  },
  {
   "cell_type": "markdown",
   "metadata": {},
   "source": [
    "* Visualization how many columns have null values"
   ]
  },
  {
   "cell_type": "code",
   "execution_count": 6,
   "metadata": {},
   "outputs": [
    {
     "data": {
      "image/png": "[encoded data removed]",
      "text/plain": [
       "<Figure size 1080x432 with 1 Axes>"
      ]
     },
     "metadata": {
      "needs_background": "light"
     },
     "output_type": "display_data"
    }
   ],
   "source": [
    "data_null = data.isnull().sum(axis = 0)\n",
    "data_null = data_null[data_null_col]\n",
    "# data_null.sort_values(ascending = False, inplace = True)\n",
    "\n",
    "fig, ax = plt.subplots(constrained_layout=True, figsize = (15,6))\n",
    "sns.barplot(x=data_null.index, y=data_null.values)\n",
    "ax.set_title(\"열에 따른 NULL 개수\")\n",
    "ax.set_xlabel(\"NULL 값을 가지는 열\")\n",
    "ax.set_ylabel(\"NULL 값 개수\")\n",
    "\n",
    "plt.show()"
   ]
  },
  {
   "cell_type": "markdown",
   "metadata": {},
   "source": [
    "## 3. Data preprocessing null"
   ]
  },
  {
   "cell_type": "markdown",
   "metadata": {},
   "source": [
    "1. Divides by what column datatype\n",
    "   - numeric no null :  \n",
    "      1. 'ID'  \n",
    "      2. 'National_number_screens'    \n",
    "      3. 'National_Audience'  \n",
    "      4. 'Seoul_Audience'  \n",
    "   - numeric have null :  \n",
    "      1. 'National_Sales'  \n",
    "      2. 'Seoul_Sales'  \n",
    "   - datetime :  \n",
    "      * Release_date  \n",
    "   - string have null :  \n",
    "      1. 'Director'  \n",
    "      2. 'Production_Company'  \n",
    "      3. 'Import_Company'  \n",
    "      4. 'Distributing_Agency'  \n",
    "      5. 'Moive_Form'  \n",
    "      6. 'Nationality'  \n",
    "      7. 'Genre'  \n",
    "      8. 'Rating'\n",
    "    - string no null :  \n",
    "      1. 'Movie_Name'\n",
    "      2. 'Movie_Type'\n",
    "      3. 'Movie_Classification'\n",
    "2. Data preprocessing numeric columns\n",
    "3. Data preprocessing string columns"
   ]
  },
  {
   "cell_type": "markdown",
   "metadata": {},
   "source": [
    "* Delete rows having over 5 null values(78 count)"
   ]
  },
  {
   "cell_type": "code",
   "execution_count": 7,
   "metadata": {},
   "outputs": [
    {
     "name": "stdout",
     "output_type": "stream",
     "text": [
      "Count : 78\n"
     ]
    }
   ],
   "source": [
    "data_null = data.isnull().sum(axis = 1)\n",
    "data_null = data_null[data_null.values > 5]\n",
    "print('Count :', len(data_null))\n",
    "data = data.drop(data_null.index)"
   ]
  },
  {
   "cell_type": "markdown",
   "metadata": {},
   "source": [
    "Fill null value with '-1' in numeric_columns"
   ]
  },
  {
   "cell_type": "code",
   "execution_count": 8,
   "metadata": {},
   "outputs": [
    {
     "data": {
      "text/plain": [
       "National_Sales    0\n",
       "Seoul_Sales       0\n",
       "dtype: int64"
      ]
     },
     "execution_count": 8,
     "metadata": {},
     "output_type": "execute_result"
    }
   ],
   "source": [
    "num_columns_null = ['National_Sales','Seoul_Sales']\n",
    "data[num_columns_null] = data[num_columns_null].fillna('-1')\n",
    "data[num_columns_null].isna().sum()"
   ]
  },
  {
   "cell_type": "markdown",
   "metadata": {},
   "source": [
    "Change num_columns value type to float"
   ]
  },
  {
   "cell_type": "code",
   "execution_count": 9,
   "metadata": {},
   "outputs": [],
   "source": [
    "num_columns = ['National_number_screens', 'National_Audience', 'National_Sales', 'Seoul_Audience','Seoul_Sales']\n",
    "for i in num_columns:\n",
    "    data[i] = data[i].str.replace(\",\",\"\").astype('float')"
   ]
  },
  {
   "cell_type": "markdown",
   "metadata": {},
   "source": [
    "Fill null values with 'No_column_name' in  \n",
    "['Director', 'Production_Company', 'Import_Company','Distributing_Agency', 'Release_Date', 'Genre']"
   ]
  },
  {
   "cell_type": "code",
   "execution_count": 10,
   "metadata": {},
   "outputs": [
    {
     "data": {
      "text/plain": [
       "Director                1499\n",
       "Production_Company     15002\n",
       "Import_Company         10477\n",
       "Distributing_Agency     6573\n",
       "Movie_Form                 8\n",
       "Genre                    121\n",
       "dtype: int64"
      ]
     },
     "execution_count": 10,
     "metadata": {},
     "output_type": "execute_result"
    }
   ],
   "source": [
    "# string_columns = ['Director', 'Production_Company', 'Import_Company','Distributing_Agency', 'Release_Date', 'Movie_Form', 'Nationality', 'Genre', 'Rating']\n",
    "string_columns1 = ['Director', 'Production_Company', 'Import_Company','Distributing_Agency', 'Movie_Form', 'Genre']\n",
    "data[string_columns1].isnull().sum()"
   ]
  },
  {
   "cell_type": "code",
   "execution_count": 11,
   "metadata": {},
   "outputs": [],
   "source": [
    "for i in string_columns1:\n",
    "    data[i] = data[i].fillna('No_'+ i)\n",
    "# data.head()\n",
    "# data[string_columns1].isnull().sum()"
   ]
  },
  {
   "cell_type": "markdown",
   "metadata": {},
   "source": [
    "Search and fill Nationality column null values"
   ]
  },
  {
   "cell_type": "code",
   "execution_count": 12,
   "metadata": {},
   "outputs": [
    {
     "name": "stderr",
     "output_type": "stream",
     "text": [
      "[0728/172710.533834:WARNING:sandbox_linux.cc(376)] InitializeSandbox() called with multiple threads in process gpu-process.\n",
      "[0728/172710.549535:WARNING:bluez_dbus_manager.cc(247)] Floss manager not present, cannot set Floss enable/disable.\n",
      "[0728/172710.690397:INFO:headless_shell.cc(660)] Written to file /tmp/tmpce0xzotp/temp.png.\n",
      "[0728/172710.809595:WARNING:sandbox_linux.cc(376)] InitializeSandbox() called with multiple threads in process gpu-process.\n",
      "[0728/172710.820296:WARNING:bluez_dbus_manager.cc(247)] Floss manager not present, cannot set Floss enable/disable.\n",
      "[0728/172710.987339:INFO:headless_shell.cc(660)] Written to file /tmp/tmp4ywc67pj/temp.png.\n",
      "[0728/172711.126897:WARNING:sandbox_linux.cc(376)] InitializeSandbox() called with multiple threads in process gpu-process.\n",
      "[0728/172711.140451:WARNING:bluez_dbus_manager.cc(247)] Floss manager not present, cannot set Floss enable/disable.\n",
      "[0728/172711.339786:INFO:headless_shell.cc(660)] Written to file /tmp/tmpcj64erc0/temp.png.\n"
     ]
    }
   ],
   "source": [
    "data[data['Nationality'].isnull()]\n",
    "dfi.export(data[data['Nationality'].isnull()], 'graph/kyh_d_3.png')"
   ]
  },
  {
   "cell_type": "markdown",
   "metadata": {},
   "source": [
    "* 오! 브라더스 : 한국  \n",
    "* 필사의 탈출 : 미국  \n",
    "* 신촉산 : 홍콩  \n",
    "* 우리는그들을잊으려한다 : 유고슬라비아  \n",
    "We have to see that values in columns"
   ]
  },
  {
   "cell_type": "code",
   "execution_count": 13,
   "metadata": {},
   "outputs": [
    {
     "name": "stdout",
     "output_type": "stream",
     "text": [
      "True\n",
      "True\n",
      "True\n",
      "True\n"
     ]
    }
   ],
   "source": [
    "Nationality_columns = ['한국','미국','홍콩','유고슬라비아']\n",
    "for i in Nationality_columns:\n",
    "    print(i in set(data['Nationality']))"
   ]
  },
  {
   "cell_type": "markdown",
   "metadata": {},
   "source": [
    "All values also in column  \n",
    "so, add values in each rows"
   ]
  },
  {
   "cell_type": "code",
   "execution_count": 14,
   "metadata": {},
   "outputs": [
    {
     "name": "stderr",
     "output_type": "stream",
     "text": [
      "[0728/172711.664665:WARNING:sandbox_linux.cc(376)] InitializeSandbox() called with multiple threads in process gpu-process.\n",
      "[0728/172711.675639:WARNING:bluez_dbus_manager.cc(247)] Floss manager not present, cannot set Floss enable/disable.\n",
      "[0728/172711.827219:INFO:headless_shell.cc(660)] Written to file /tmp/tmpwh4lx9gh/temp.png.\n",
      "[0728/172711.954105:WARNING:sandbox_linux.cc(376)] InitializeSandbox() called with multiple threads in process gpu-process.\n",
      "[0728/172711.965644:WARNING:bluez_dbus_manager.cc(247)] Floss manager not present, cannot set Floss enable/disable.\n",
      "[0728/172712.136064:INFO:headless_shell.cc(660)] Written to file /tmp/tmpm5gnrhfh/temp.png.\n",
      "[0728/172712.275643:WARNING:sandbox_linux.cc(376)] InitializeSandbox() called with multiple threads in process gpu-process.\n",
      "[0728/172712.290376:WARNING:bluez_dbus_manager.cc(247)] Floss manager not present, cannot set Floss enable/disable.\n",
      "[0728/172712.490246:INFO:headless_shell.cc(660)] Written to file /tmp/tmp4i27rno3/temp.png.\n"
     ]
    }
   ],
   "source": [
    "data.loc[251 , 'Nationality' ] = '한국'\n",
    "data.loc[3805 , 'Nationality' ] = '미국'\n",
    "data.loc[6802 , 'Nationality' ] = '홍콩'\n",
    "data.loc[23940 , 'Nationality' ] = '유고슬라비아'\n",
    "data.loc[[251, 3805, 6802, 23940]]\n",
    "dfi.export(data.loc[[251, 3805, 6802, 23940]], 'graph/kyh_d_4.png')"
   ]
  },
  {
   "cell_type": "markdown",
   "metadata": {},
   "source": [
    "Rating and Release Date have null values"
   ]
  },
  {
   "cell_type": "markdown",
   "metadata": {},
   "source": [
    "For preprocessing Rating column, we make new csv file match score"
   ]
  },
  {
   "cell_type": "code",
   "execution_count": 15,
   "metadata": {},
   "outputs": [
    {
     "name": "stdout",
     "output_type": "stream",
     "text": [
      "(55, 2)\n",
      "{'12', 'ETC', '15', 'ALL', 'X', '18'}\n"
     ]
    },
    {
     "name": "stderr",
     "output_type": "stream",
     "text": [
      "[0728/172712.774146:WARNING:sandbox_linux.cc(376)] InitializeSandbox() called with multiple threads in process gpu-process.\n",
      "[0728/172712.786503:WARNING:bluez_dbus_manager.cc(247)] Floss manager not present, cannot set Floss enable/disable.\n",
      "[0728/172712.906710:INFO:headless_shell.cc(660)] Written to file /tmp/tmpw4fvoc_z/temp.png.\n"
     ]
    }
   ],
   "source": [
    "df_Rating = pd.read_csv('Rating.csv')\n",
    "print(df_Rating.shape)\n",
    "print(set(df_Rating['score']))\n",
    "df_Rating.head()\n",
    "\n",
    "dfi.export(df_Rating.head(), 'graph/kyh_d_5.png')"
   ]
  },
  {
   "cell_type": "markdown",
   "metadata": {},
   "source": [
    "Replace 'Rating' column values using new csv file 'Rating' \n",
    "fill 'Rating' null value to 'ETC'"
   ]
  },
  {
   "cell_type": "code",
   "execution_count": 16,
   "metadata": {},
   "outputs": [
    {
     "name": "stderr",
     "output_type": "stream",
     "text": [
      "[0728/172713.581212:WARNING:sandbox_linux.cc(376)] InitializeSandbox() called with multiple threads in process gpu-process.\n",
      "[0728/172713.600010:WARNING:bluez_dbus_manager.cc(247)] Floss manager not present, cannot set Floss enable/disable.\n",
      "[0728/172713.745785:INFO:headless_shell.cc(660)] Written to file /tmp/tmpoeai_q9s/temp.png.\n",
      "[0728/172713.863370:WARNING:sandbox_linux.cc(376)] InitializeSandbox() called with multiple threads in process gpu-process.\n",
      "[0728/172713.895572:WARNING:bluez_dbus_manager.cc(247)] Floss manager not present, cannot set Floss enable/disable.\n",
      "[0728/172714.081625:INFO:headless_shell.cc(660)] Written to file /tmp/tmp9edw50wo/temp.png.\n",
      "[0728/172714.219715:WARNING:sandbox_linux.cc(376)] InitializeSandbox() called with multiple threads in process gpu-process.\n",
      "[0728/172714.230646:WARNING:bluez_dbus_manager.cc(247)] Floss manager not present, cannot set Floss enable/disable.\n",
      "[0728/172714.450981:INFO:headless_shell.cc(660)] Written to file /tmp/tmp5mr69z0l/temp.png.\n"
     ]
    }
   ],
   "source": [
    "for i in range(len(df_Rating)):\n",
    "    data.replace(df_Rating['Rating'][i], df_Rating['score'][i], inplace = True)\n",
    "    # print(df_Rating['Rating'][i], df_Rating['score'][i])\n",
    "\n",
    "# data['Rating']\n",
    "data['Rating'].fillna('ETC', inplace = True)\n",
    "data['Rating']\n",
    "set(data['Rating'])\n",
    "\n",
    "dfi.export(data.head(), 'graph/kyh_d_6.png')\n",
    "\n"
   ]
  },
  {
   "cell_type": "markdown",
   "metadata": {},
   "source": [
    "'Release Date' value change to datetime"
   ]
  },
  {
   "cell_type": "code",
   "execution_count": 17,
   "metadata": {},
   "outputs": [
    {
     "name": "stderr",
     "output_type": "stream",
     "text": [
      "[0728/172714.743700:WARNING:sandbox_linux.cc(376)] InitializeSandbox() called with multiple threads in process gpu-process.\n",
      "[0728/172714.753791:WARNING:bluez_dbus_manager.cc(247)] Floss manager not present, cannot set Floss enable/disable.\n",
      "[0728/172714.893532:INFO:headless_shell.cc(660)] Written to file /tmp/tmpavs1zxoo/temp.png.\n",
      "[0728/172715.013793:WARNING:sandbox_linux.cc(376)] InitializeSandbox() called with multiple threads in process gpu-process.\n",
      "[0728/172715.024942:WARNING:bluez_dbus_manager.cc(247)] Floss manager not present, cannot set Floss enable/disable.\n",
      "[0728/172715.205973:INFO:headless_shell.cc(660)] Written to file /tmp/tmpmaq85ehl/temp.png.\n",
      "[0728/172715.345875:WARNING:sandbox_linux.cc(376)] InitializeSandbox() called with multiple threads in process gpu-process.\n",
      "[0728/172715.357951:WARNING:bluez_dbus_manager.cc(247)] Floss manager not present, cannot set Floss enable/disable.\n",
      "[0728/172715.562856:INFO:headless_shell.cc(660)] Written to file /tmp/tmpls743b0g/temp.png.\n"
     ]
    }
   ],
   "source": [
    "# Convert Release_Date to datetime value\n",
    "import datetime\n",
    "\n",
    "data['Release_Date'] = pd.to_datetime(data['Release_Date'], format = \"%Y-%m-%d\")\n",
    "\n",
    "data['Release_Date'].dt.year\n",
    "data['year'] = data['Release_Date'].dt.year\n",
    "\n",
    "data['Release_Date'].dt.month\n",
    "data['month'] = data['Release_Date'].dt.month\n",
    "\n",
    "data['Release_Date'].dt.day\n",
    "data['day'] = data['Release_Date'].dt.day\n",
    "\n",
    "data['year'] = data['year'].fillna(0)\n",
    "data['year'].isna().sum()\n",
    "\n",
    "data['month'] = data['month'].fillna(0)\n",
    "data['month'].isna().sum()\n",
    "\n",
    "data['day'] = data['day'].fillna(0)\n",
    "data['day'].isna().sum()\n",
    "\n",
    "data.head()\n",
    "dfi.export(data.head(), 'graph/kyh_d_7.png')"
   ]
  },
  {
   "cell_type": "markdown",
   "metadata": {},
   "source": [
    "Null value 출력"
   ]
  },
  {
   "cell_type": "code",
   "execution_count": 18,
   "metadata": {},
   "outputs": [
    {
     "data": {
      "text/plain": [
       "ID                          0\n",
       "Movie_Name                  0\n",
       "Director                    0\n",
       "Production_Company          0\n",
       "Import_Company              0\n",
       "Distributing_Agency         0\n",
       "Release_Date               18\n",
       "Movie_Type                  0\n",
       "Movie_Form                  0\n",
       "Nationality                 0\n",
       "National_number_screens     0\n",
       "National_Sales              0\n",
       "National_Audience           0\n",
       "Seoul_Sales                 0\n",
       "Seoul_Audience              0\n",
       "Genre                       0\n",
       "Rating                      0\n",
       "Movie_Classification        0\n",
       "year                        0\n",
       "month                       0\n",
       "day                         0\n",
       "dtype: int64"
      ]
     },
     "execution_count": 18,
     "metadata": {},
     "output_type": "execute_result"
    }
   ],
   "source": [
    "data_null = data.isnull().sum(axis = 0)\n",
    "data_null"
   ]
  },
  {
   "cell_type": "code",
   "execution_count": 19,
   "metadata": {},
   "outputs": [
    {
     "name": "stderr",
     "output_type": "stream",
     "text": [
      "/home/aiffel/.local/lib/python3.10/site-packages/IPython/core/pylabtools.py:151: UserWarning: Glyph 8722 (\\N{MINUS SIGN}) missing from current font.\n",
      "  fig.canvas.print_figure(bytes_io, **kw)\n"
     ]
    },
    {
     "data": {
      "image/png": "[encoded data removed]",
      "text/plain": [
       "<Figure size 1440x432 with 1 Axes>"
      ]
     },
     "metadata": {
      "needs_background": "light"
     },
     "output_type": "display_data"
    }
   ],
   "source": [
    "data_null.drop('Release_Date', inplace = True)\n",
    "fig, ax = plt.subplots(constrained_layout=True, figsize = (20,6))\n",
    "sns.barplot(x=data_null.index, y=data_null.values)\n",
    "plt.show()"
   ]
  },
  {
   "cell_type": "markdown",
   "metadata": {},
   "source": [
    "## 3. Data preprocessing outline"
   ]
  },
  {
   "cell_type": "markdown",
   "metadata": {},
   "source": [
    "### Check 0, -1 values in numeric columns"
   ]
  },
  {
   "cell_type": "code",
   "execution_count": 20,
   "metadata": {},
   "outputs": [
    {
     "data": {
      "text/html": [
       "<div>\n",
       "<style scoped>\n",
       "    .dataframe tbody tr th:only-of-type {\n",
       "        vertical-align: middle;\n",
       "    }\n",
       "\n",
       "    .dataframe tbody tr th {\n",
       "        vertical-align: top;\n",
       "    }\n",
       "\n",
       "    .dataframe thead th {\n",
       "        text-align: right;\n",
       "    }\n",
       "</style>\n",
       "<table border=\"1\" class=\"dataframe\">\n",
       "  <thead>\n",
       "    <tr style=\"text-align: right;\">\n",
       "      <th></th>\n",
       "      <th>ID</th>\n",
       "      <th>Movie_Name</th>\n",
       "      <th>Director</th>\n",
       "      <th>Production_Company</th>\n",
       "      <th>Import_Company</th>\n",
       "      <th>Distributing_Agency</th>\n",
       "      <th>Release_Date</th>\n",
       "      <th>Movie_Type</th>\n",
       "      <th>Movie_Form</th>\n",
       "      <th>Nationality</th>\n",
       "      <th>...</th>\n",
       "      <th>National_Sales</th>\n",
       "      <th>National_Audience</th>\n",
       "      <th>Seoul_Sales</th>\n",
       "      <th>Seoul_Audience</th>\n",
       "      <th>Genre</th>\n",
       "      <th>Rating</th>\n",
       "      <th>Movie_Classification</th>\n",
       "      <th>year</th>\n",
       "      <th>month</th>\n",
       "      <th>day</th>\n",
       "    </tr>\n",
       "  </thead>\n",
       "  <tbody>\n",
       "    <tr>\n",
       "      <th>4228</th>\n",
       "      <td>4229</td>\n",
       "      <td>어머니 왜 나를 낳으셨나요</td>\n",
       "      <td>김묵</td>\n",
       "      <td>신창필름</td>\n",
       "      <td>No_Import_Company</td>\n",
       "      <td>No_Distributing_Agency</td>\n",
       "      <td>1972-06-03</td>\n",
       "      <td>개봉영화</td>\n",
       "      <td>장편</td>\n",
       "      <td>한국</td>\n",
       "      <td>...</td>\n",
       "      <td>-1.0</td>\n",
       "      <td>0.0</td>\n",
       "      <td>-1.0</td>\n",
       "      <td>51491.0</td>\n",
       "      <td>No_Genre</td>\n",
       "      <td>ALL</td>\n",
       "      <td>일반영화</td>\n",
       "      <td>1972.0</td>\n",
       "      <td>6.0</td>\n",
       "      <td>3.0</td>\n",
       "    </tr>\n",
       "    <tr>\n",
       "      <th>2257</th>\n",
       "      <td>2258</td>\n",
       "      <td>스웜</td>\n",
       "      <td>어윈 알렌</td>\n",
       "      <td>워너 브러더스 픽쳐스</td>\n",
       "      <td>세경흥업(주)</td>\n",
       "      <td>No_Distributing_Agency</td>\n",
       "      <td>1979-03-31</td>\n",
       "      <td>개봉영화</td>\n",
       "      <td>장편</td>\n",
       "      <td>미국</td>\n",
       "      <td>...</td>\n",
       "      <td>-1.0</td>\n",
       "      <td>0.0</td>\n",
       "      <td>-1.0</td>\n",
       "      <td>142062.0</td>\n",
       "      <td>공포(호러)</td>\n",
       "      <td>ETC</td>\n",
       "      <td>일반영화</td>\n",
       "      <td>1979.0</td>\n",
       "      <td>3.0</td>\n",
       "      <td>31.0</td>\n",
       "    </tr>\n",
       "    <tr>\n",
       "      <th>6912</th>\n",
       "      <td>6913</td>\n",
       "      <td>일요일의 손님들</td>\n",
       "      <td>김수용</td>\n",
       "      <td>세경흥업(주)</td>\n",
       "      <td>No_Import_Company</td>\n",
       "      <td>No_Distributing_Agency</td>\n",
       "      <td>1973-10-20</td>\n",
       "      <td>개봉영화</td>\n",
       "      <td>장편</td>\n",
       "      <td>한국</td>\n",
       "      <td>...</td>\n",
       "      <td>-1.0</td>\n",
       "      <td>0.0</td>\n",
       "      <td>-1.0</td>\n",
       "      <td>15704.0</td>\n",
       "      <td>멜로/로맨스</td>\n",
       "      <td>12</td>\n",
       "      <td>일반영화</td>\n",
       "      <td>1973.0</td>\n",
       "      <td>10.0</td>\n",
       "      <td>20.0</td>\n",
       "    </tr>\n",
       "    <tr>\n",
       "      <th>10812</th>\n",
       "      <td>10813</td>\n",
       "      <td>이조 상노비사</td>\n",
       "      <td>최인현</td>\n",
       "      <td>대영영화주식회사</td>\n",
       "      <td>No_Import_Company</td>\n",
       "      <td>No_Distributing_Agency</td>\n",
       "      <td>1975-01-25</td>\n",
       "      <td>개봉영화</td>\n",
       "      <td>장편</td>\n",
       "      <td>한국</td>\n",
       "      <td>...</td>\n",
       "      <td>-1.0</td>\n",
       "      <td>0.0</td>\n",
       "      <td>-1.0</td>\n",
       "      <td>3210.0</td>\n",
       "      <td>사극</td>\n",
       "      <td>15</td>\n",
       "      <td>일반영화</td>\n",
       "      <td>1975.0</td>\n",
       "      <td>1.0</td>\n",
       "      <td>25.0</td>\n",
       "    </tr>\n",
       "    <tr>\n",
       "      <th>4620</th>\n",
       "      <td>4621</td>\n",
       "      <td>고교 꺼꾸리군 장다리군</td>\n",
       "      <td>석래명</td>\n",
       "      <td>삼영필림</td>\n",
       "      <td>No_Import_Company</td>\n",
       "      <td>No_Distributing_Agency</td>\n",
       "      <td>1977-06-14</td>\n",
       "      <td>개봉영화</td>\n",
       "      <td>장편</td>\n",
       "      <td>한국</td>\n",
       "      <td>...</td>\n",
       "      <td>-1.0</td>\n",
       "      <td>0.0</td>\n",
       "      <td>-1.0</td>\n",
       "      <td>42779.0</td>\n",
       "      <td>드라마</td>\n",
       "      <td>12</td>\n",
       "      <td>일반영화</td>\n",
       "      <td>1977.0</td>\n",
       "      <td>6.0</td>\n",
       "      <td>14.0</td>\n",
       "    </tr>\n",
       "  </tbody>\n",
       "</table>\n",
       "<p>5 rows × 21 columns</p>\n",
       "</div>"
      ],
      "text/plain": [
       "          ID      Movie_Name Director Production_Company     Import_Company  \\\n",
       "4228    4229  어머니 왜 나를 낳으셨나요       김묵               신창필름  No_Import_Company   \n",
       "2257    2258              스웜    어윈 알렌        워너 브러더스 픽쳐스            세경흥업(주)   \n",
       "6912    6913        일요일의 손님들      김수용            세경흥업(주)  No_Import_Company   \n",
       "10812  10813         이조 상노비사      최인현           대영영화주식회사  No_Import_Company   \n",
       "4620    4621    고교 꺼꾸리군 장다리군      석래명               삼영필림  No_Import_Company   \n",
       "\n",
       "          Distributing_Agency Release_Date Movie_Type Movie_Form Nationality  \\\n",
       "4228   No_Distributing_Agency   1972-06-03       개봉영화         장편          한국   \n",
       "2257   No_Distributing_Agency   1979-03-31       개봉영화         장편          미국   \n",
       "6912   No_Distributing_Agency   1973-10-20       개봉영화         장편          한국   \n",
       "10812  No_Distributing_Agency   1975-01-25       개봉영화         장편          한국   \n",
       "4620   No_Distributing_Agency   1977-06-14       개봉영화         장편          한국   \n",
       "\n",
       "       ...  National_Sales  National_Audience  Seoul_Sales  Seoul_Audience  \\\n",
       "4228   ...            -1.0                0.0         -1.0         51491.0   \n",
       "2257   ...            -1.0                0.0         -1.0        142062.0   \n",
       "6912   ...            -1.0                0.0         -1.0         15704.0   \n",
       "10812  ...            -1.0                0.0         -1.0          3210.0   \n",
       "4620   ...            -1.0                0.0         -1.0         42779.0   \n",
       "\n",
       "          Genre Rating Movie_Classification    year  month   day  \n",
       "4228   No_Genre    ALL                 일반영화  1972.0    6.0   3.0  \n",
       "2257     공포(호러)    ETC                 일반영화  1979.0    3.0  31.0  \n",
       "6912     멜로/로맨스     12                 일반영화  1973.0   10.0  20.0  \n",
       "10812        사극     15                 일반영화  1975.0    1.0  25.0  \n",
       "4620        드라마     12                 일반영화  1977.0    6.0  14.0  \n",
       "\n",
       "[5 rows x 21 columns]"
      ]
     },
     "execution_count": 20,
     "metadata": {},
     "output_type": "execute_result"
    }
   ],
   "source": [
    "data.sort_values('National_Sales').head()"
   ]
  },
  {
   "cell_type": "markdown",
   "metadata": {},
   "source": [
    "show how many 0 values in columns"
   ]
  },
  {
   "cell_type": "code",
   "execution_count": 21,
   "metadata": {},
   "outputs": [
    {
     "data": {
      "text/html": [
       "<div>\n",
       "<style scoped>\n",
       "    .dataframe tbody tr th:only-of-type {\n",
       "        vertical-align: middle;\n",
       "    }\n",
       "\n",
       "    .dataframe tbody tr th {\n",
       "        vertical-align: top;\n",
       "    }\n",
       "\n",
       "    .dataframe thead th {\n",
       "        text-align: right;\n",
       "    }\n",
       "</style>\n",
       "<table border=\"1\" class=\"dataframe\">\n",
       "  <thead>\n",
       "    <tr style=\"text-align: right;\">\n",
       "      <th></th>\n",
       "      <th>ID</th>\n",
       "      <th>Movie_Name</th>\n",
       "      <th>Director</th>\n",
       "      <th>Production_Company</th>\n",
       "      <th>Import_Company</th>\n",
       "      <th>Distributing_Agency</th>\n",
       "      <th>Release_Date</th>\n",
       "      <th>Movie_Type</th>\n",
       "      <th>Movie_Form</th>\n",
       "      <th>Nationality</th>\n",
       "      <th>...</th>\n",
       "      <th>National_Sales</th>\n",
       "      <th>National_Audience</th>\n",
       "      <th>Seoul_Sales</th>\n",
       "      <th>Seoul_Audience</th>\n",
       "      <th>Genre</th>\n",
       "      <th>Rating</th>\n",
       "      <th>Movie_Classification</th>\n",
       "      <th>year</th>\n",
       "      <th>month</th>\n",
       "      <th>day</th>\n",
       "    </tr>\n",
       "  </thead>\n",
       "  <tbody>\n",
       "    <tr>\n",
       "      <th>26196</th>\n",
       "      <td>26197</td>\n",
       "      <td>av감독의 아내</td>\n",
       "      <td>쿠도 마사노리</td>\n",
       "      <td>No_Production_Company</td>\n",
       "      <td>(주)도키엔터테인먼트</td>\n",
       "      <td>(주)도키엔터테인먼트</td>\n",
       "      <td>2016-12-22</td>\n",
       "      <td>개봉영화</td>\n",
       "      <td>장편</td>\n",
       "      <td>일본</td>\n",
       "      <td>...</td>\n",
       "      <td>8000.0</td>\n",
       "      <td>1.0</td>\n",
       "      <td>0.0</td>\n",
       "      <td>0.0</td>\n",
       "      <td>성인물(에로)</td>\n",
       "      <td>18</td>\n",
       "      <td>일반영화</td>\n",
       "      <td>2016.0</td>\n",
       "      <td>12.0</td>\n",
       "      <td>22.0</td>\n",
       "    </tr>\n",
       "    <tr>\n",
       "      <th>21748</th>\n",
       "      <td>21749</td>\n",
       "      <td>변태작가의 색스런 이야기</td>\n",
       "      <td>No_Director</td>\n",
       "      <td>No_Production_Company</td>\n",
       "      <td>주식회사 미콘</td>\n",
       "      <td>주식회사 미콘</td>\n",
       "      <td>2020-02-07</td>\n",
       "      <td>개봉영화</td>\n",
       "      <td>장편</td>\n",
       "      <td>일본</td>\n",
       "      <td>...</td>\n",
       "      <td>1000.0</td>\n",
       "      <td>1.0</td>\n",
       "      <td>0.0</td>\n",
       "      <td>0.0</td>\n",
       "      <td>드라마</td>\n",
       "      <td>18</td>\n",
       "      <td>일반영화</td>\n",
       "      <td>2020.0</td>\n",
       "      <td>2.0</td>\n",
       "      <td>7.0</td>\n",
       "    </tr>\n",
       "    <tr>\n",
       "      <th>21749</th>\n",
       "      <td>21750</td>\n",
       "      <td>변태정력왕 : 투명인간의탄생</td>\n",
       "      <td>오쿠 와타루</td>\n",
       "      <td>No_Production_Company</td>\n",
       "      <td>(주)에스와이미디어</td>\n",
       "      <td>(주)에스와이미디어</td>\n",
       "      <td>2017-05-15</td>\n",
       "      <td>개봉영화</td>\n",
       "      <td>장편</td>\n",
       "      <td>일본</td>\n",
       "      <td>...</td>\n",
       "      <td>5000.0</td>\n",
       "      <td>1.0</td>\n",
       "      <td>0.0</td>\n",
       "      <td>0.0</td>\n",
       "      <td>ETC</td>\n",
       "      <td>18</td>\n",
       "      <td>일반영화</td>\n",
       "      <td>2017.0</td>\n",
       "      <td>5.0</td>\n",
       "      <td>15.0</td>\n",
       "    </tr>\n",
       "    <tr>\n",
       "      <th>21750</th>\n",
       "      <td>21751</td>\n",
       "      <td>변태커플 스와핑</td>\n",
       "      <td>나카메구로 코우지</td>\n",
       "      <td>No_Production_Company</td>\n",
       "      <td>(주)플라이어</td>\n",
       "      <td>(주)플라이어</td>\n",
       "      <td>2016-06-03</td>\n",
       "      <td>개봉영화</td>\n",
       "      <td>장편</td>\n",
       "      <td>일본</td>\n",
       "      <td>...</td>\n",
       "      <td>8000.0</td>\n",
       "      <td>1.0</td>\n",
       "      <td>0.0</td>\n",
       "      <td>0.0</td>\n",
       "      <td>드라마</td>\n",
       "      <td>18</td>\n",
       "      <td>일반영화</td>\n",
       "      <td>2016.0</td>\n",
       "      <td>6.0</td>\n",
       "      <td>3.0</td>\n",
       "    </tr>\n",
       "    <tr>\n",
       "      <th>21751</th>\n",
       "      <td>21752</td>\n",
       "      <td>변했다! 내 남자의 맛</td>\n",
       "      <td>제너럴리스트</td>\n",
       "      <td>(주)뮤직엔닷컴</td>\n",
       "      <td>No_Import_Company</td>\n",
       "      <td>(주)뮤직엔닷컴</td>\n",
       "      <td>2022-05-31</td>\n",
       "      <td>개봉영화</td>\n",
       "      <td>장편</td>\n",
       "      <td>한국</td>\n",
       "      <td>...</td>\n",
       "      <td>100000.0</td>\n",
       "      <td>20.0</td>\n",
       "      <td>0.0</td>\n",
       "      <td>0.0</td>\n",
       "      <td>성인물(에로)</td>\n",
       "      <td>18</td>\n",
       "      <td>일반영화</td>\n",
       "      <td>2022.0</td>\n",
       "      <td>5.0</td>\n",
       "      <td>31.0</td>\n",
       "    </tr>\n",
       "  </tbody>\n",
       "</table>\n",
       "<p>5 rows × 21 columns</p>\n",
       "</div>"
      ],
      "text/plain": [
       "          ID       Movie_Name     Director     Production_Company  \\\n",
       "26196  26197         av감독의 아내      쿠도 마사노리  No_Production_Company   \n",
       "21748  21749    변태작가의 색스런 이야기  No_Director  No_Production_Company   \n",
       "21749  21750  변태정력왕 : 투명인간의탄생       오쿠 와타루  No_Production_Company   \n",
       "21750  21751         변태커플 스와핑    나카메구로 코우지  No_Production_Company   \n",
       "21751  21752     변했다! 내 남자의 맛       제너럴리스트               (주)뮤직엔닷컴   \n",
       "\n",
       "          Import_Company Distributing_Agency Release_Date Movie_Type  \\\n",
       "26196        (주)도키엔터테인먼트         (주)도키엔터테인먼트   2016-12-22       개봉영화   \n",
       "21748            주식회사 미콘             주식회사 미콘   2020-02-07       개봉영화   \n",
       "21749         (주)에스와이미디어          (주)에스와이미디어   2017-05-15       개봉영화   \n",
       "21750            (주)플라이어             (주)플라이어   2016-06-03       개봉영화   \n",
       "21751  No_Import_Company            (주)뮤직엔닷컴   2022-05-31       개봉영화   \n",
       "\n",
       "      Movie_Form Nationality  ...  National_Sales  National_Audience  \\\n",
       "26196         장편          일본  ...          8000.0                1.0   \n",
       "21748         장편          일본  ...          1000.0                1.0   \n",
       "21749         장편          일본  ...          5000.0                1.0   \n",
       "21750         장편          일본  ...          8000.0                1.0   \n",
       "21751         장편          한국  ...        100000.0               20.0   \n",
       "\n",
       "       Seoul_Sales  Seoul_Audience    Genre Rating Movie_Classification  \\\n",
       "26196          0.0             0.0  성인물(에로)     18                 일반영화   \n",
       "21748          0.0             0.0      드라마     18                 일반영화   \n",
       "21749          0.0             0.0      ETC     18                 일반영화   \n",
       "21750          0.0             0.0      드라마     18                 일반영화   \n",
       "21751          0.0             0.0  성인물(에로)     18                 일반영화   \n",
       "\n",
       "         year  month   day  \n",
       "26196  2016.0   12.0  22.0  \n",
       "21748  2020.0    2.0   7.0  \n",
       "21749  2017.0    5.0  15.0  \n",
       "21750  2016.0    6.0   3.0  \n",
       "21751  2022.0    5.0  31.0  \n",
       "\n",
       "[5 rows x 21 columns]"
      ]
     },
     "execution_count": 21,
     "metadata": {},
     "output_type": "execute_result"
    }
   ],
   "source": [
    "data.sort_values('Seoul_Audience').head()"
   ]
  },
  {
   "cell_type": "code",
   "execution_count": 22,
   "metadata": {},
   "outputs": [
    {
     "data": {
      "text/html": [
       "<div>\n",
       "<style scoped>\n",
       "    .dataframe tbody tr th:only-of-type {\n",
       "        vertical-align: middle;\n",
       "    }\n",
       "\n",
       "    .dataframe tbody tr th {\n",
       "        vertical-align: top;\n",
       "    }\n",
       "\n",
       "    .dataframe thead th {\n",
       "        text-align: right;\n",
       "    }\n",
       "</style>\n",
       "<table border=\"1\" class=\"dataframe\">\n",
       "  <thead>\n",
       "    <tr style=\"text-align: right;\">\n",
       "      <th></th>\n",
       "      <th>ID</th>\n",
       "      <th>Movie_Name</th>\n",
       "      <th>Director</th>\n",
       "      <th>Production_Company</th>\n",
       "      <th>Import_Company</th>\n",
       "      <th>Distributing_Agency</th>\n",
       "      <th>Release_Date</th>\n",
       "      <th>Movie_Type</th>\n",
       "      <th>Movie_Form</th>\n",
       "      <th>Nationality</th>\n",
       "      <th>...</th>\n",
       "      <th>National_Sales</th>\n",
       "      <th>National_Audience</th>\n",
       "      <th>Seoul_Sales</th>\n",
       "      <th>Seoul_Audience</th>\n",
       "      <th>Genre</th>\n",
       "      <th>Rating</th>\n",
       "      <th>Movie_Classification</th>\n",
       "      <th>year</th>\n",
       "      <th>month</th>\n",
       "      <th>day</th>\n",
       "    </tr>\n",
       "  </thead>\n",
       "  <tbody>\n",
       "    <tr>\n",
       "      <th>13122</th>\n",
       "      <td>13123</td>\n",
       "      <td>흑야</td>\n",
       "      <td>이두용</td>\n",
       "      <td>합동영화(주)</td>\n",
       "      <td>No_Import_Company</td>\n",
       "      <td>No_Distributing_Agency</td>\n",
       "      <td>1975-12-13</td>\n",
       "      <td>개봉영화</td>\n",
       "      <td>장편</td>\n",
       "      <td>한국</td>\n",
       "      <td>...</td>\n",
       "      <td>-1.0</td>\n",
       "      <td>0.0</td>\n",
       "      <td>-1.0</td>\n",
       "      <td>1089.0</td>\n",
       "      <td>드라마</td>\n",
       "      <td>12</td>\n",
       "      <td>일반영화</td>\n",
       "      <td>1975.0</td>\n",
       "      <td>12.0</td>\n",
       "      <td>13.0</td>\n",
       "    </tr>\n",
       "    <tr>\n",
       "      <th>1417</th>\n",
       "      <td>1418</td>\n",
       "      <td>속 써스페리아</td>\n",
       "      <td>다리오 아르젠토</td>\n",
       "      <td>No_Production_Company</td>\n",
       "      <td>연방영화(주)</td>\n",
       "      <td>No_Distributing_Agency</td>\n",
       "      <td>1978-12-24</td>\n",
       "      <td>개봉영화</td>\n",
       "      <td>장편</td>\n",
       "      <td>이탈리아</td>\n",
       "      <td>...</td>\n",
       "      <td>-1.0</td>\n",
       "      <td>0.0</td>\n",
       "      <td>-1.0</td>\n",
       "      <td>241806.0</td>\n",
       "      <td>공포(호러)</td>\n",
       "      <td>18</td>\n",
       "      <td>일반영화</td>\n",
       "      <td>1978.0</td>\n",
       "      <td>12.0</td>\n",
       "      <td>24.0</td>\n",
       "    </tr>\n",
       "    <tr>\n",
       "      <th>4000</th>\n",
       "      <td>4001</td>\n",
       "      <td>무림대협</td>\n",
       "      <td>김선경</td>\n",
       "      <td>동아흥행㈜</td>\n",
       "      <td>No_Import_Company</td>\n",
       "      <td>No_Distributing_Agency</td>\n",
       "      <td>1979-06-23</td>\n",
       "      <td>개봉영화</td>\n",
       "      <td>장편</td>\n",
       "      <td>한국</td>\n",
       "      <td>...</td>\n",
       "      <td>-1.0</td>\n",
       "      <td>0.0</td>\n",
       "      <td>-1.0</td>\n",
       "      <td>57333.0</td>\n",
       "      <td>액션</td>\n",
       "      <td>12</td>\n",
       "      <td>일반영화</td>\n",
       "      <td>1979.0</td>\n",
       "      <td>6.0</td>\n",
       "      <td>23.0</td>\n",
       "    </tr>\n",
       "    <tr>\n",
       "      <th>6281</th>\n",
       "      <td>6282</td>\n",
       "      <td>무림 악인전</td>\n",
       "      <td>김정용</td>\n",
       "      <td>한진흥업주식회사</td>\n",
       "      <td>No_Import_Company</td>\n",
       "      <td>No_Distributing_Agency</td>\n",
       "      <td>1980-04-10</td>\n",
       "      <td>개봉영화</td>\n",
       "      <td>장편</td>\n",
       "      <td>한국</td>\n",
       "      <td>...</td>\n",
       "      <td>-1.0</td>\n",
       "      <td>0.0</td>\n",
       "      <td>-1.0</td>\n",
       "      <td>20342.0</td>\n",
       "      <td>사극</td>\n",
       "      <td>ALL</td>\n",
       "      <td>일반영화</td>\n",
       "      <td>1980.0</td>\n",
       "      <td>4.0</td>\n",
       "      <td>10.0</td>\n",
       "    </tr>\n",
       "    <tr>\n",
       "      <th>4008</th>\n",
       "      <td>4009</td>\n",
       "      <td>마음 약해서</td>\n",
       "      <td>심우섭</td>\n",
       "      <td>태창흥업</td>\n",
       "      <td>No_Import_Company</td>\n",
       "      <td>No_Distributing_Agency</td>\n",
       "      <td>1980-01-12</td>\n",
       "      <td>개봉영화</td>\n",
       "      <td>장편</td>\n",
       "      <td>한국</td>\n",
       "      <td>...</td>\n",
       "      <td>-1.0</td>\n",
       "      <td>0.0</td>\n",
       "      <td>-1.0</td>\n",
       "      <td>57089.0</td>\n",
       "      <td>코미디</td>\n",
       "      <td>12</td>\n",
       "      <td>일반영화</td>\n",
       "      <td>1980.0</td>\n",
       "      <td>1.0</td>\n",
       "      <td>12.0</td>\n",
       "    </tr>\n",
       "  </tbody>\n",
       "</table>\n",
       "<p>5 rows × 21 columns</p>\n",
       "</div>"
      ],
      "text/plain": [
       "          ID Movie_Name  Director     Production_Company     Import_Company  \\\n",
       "13122  13123         흑야       이두용                합동영화(주)  No_Import_Company   \n",
       "1417    1418    속 써스페리아  다리오 아르젠토  No_Production_Company            연방영화(주)   \n",
       "4000    4001       무림대협       김선경                  동아흥행㈜  No_Import_Company   \n",
       "6281    6282     무림 악인전       김정용               한진흥업주식회사  No_Import_Company   \n",
       "4008    4009     마음 약해서       심우섭                   태창흥업  No_Import_Company   \n",
       "\n",
       "          Distributing_Agency Release_Date Movie_Type Movie_Form Nationality  \\\n",
       "13122  No_Distributing_Agency   1975-12-13       개봉영화         장편          한국   \n",
       "1417   No_Distributing_Agency   1978-12-24       개봉영화         장편        이탈리아   \n",
       "4000   No_Distributing_Agency   1979-06-23       개봉영화         장편          한국   \n",
       "6281   No_Distributing_Agency   1980-04-10       개봉영화         장편          한국   \n",
       "4008   No_Distributing_Agency   1980-01-12       개봉영화         장편          한국   \n",
       "\n",
       "       ...  National_Sales  National_Audience  Seoul_Sales  Seoul_Audience  \\\n",
       "13122  ...            -1.0                0.0         -1.0          1089.0   \n",
       "1417   ...            -1.0                0.0         -1.0        241806.0   \n",
       "4000   ...            -1.0                0.0         -1.0         57333.0   \n",
       "6281   ...            -1.0                0.0         -1.0         20342.0   \n",
       "4008   ...            -1.0                0.0         -1.0         57089.0   \n",
       "\n",
       "        Genre Rating Movie_Classification    year  month   day  \n",
       "13122     드라마     12                 일반영화  1975.0   12.0  13.0  \n",
       "1417   공포(호러)     18                 일반영화  1978.0   12.0  24.0  \n",
       "4000       액션     12                 일반영화  1979.0    6.0  23.0  \n",
       "6281       사극    ALL                 일반영화  1980.0    4.0  10.0  \n",
       "4008      코미디     12                 일반영화  1980.0    1.0  12.0  \n",
       "\n",
       "[5 rows x 21 columns]"
      ]
     },
     "execution_count": 22,
     "metadata": {},
     "output_type": "execute_result"
    }
   ],
   "source": [
    "data.sort_values('Seoul_Sales').head()"
   ]
  },
  {
   "cell_type": "code",
   "execution_count": 23,
   "metadata": {},
   "outputs": [
    {
     "name": "stdout",
     "output_type": "stream",
     "text": [
      "(26119, 21)\n",
      "0 values\n",
      "National_Audience : 7308\n",
      "National_Sales : 7866\n",
      "Seoul_Audience : 6654\n",
      "Seoul_Sales : 14392\n",
      "-1 values(null)\n",
      "National_Audience : 0\n",
      "National_Sales : 983\n",
      "Seoul_Audience : 0\n",
      "Seoul_Sales : 989\n"
     ]
    }
   ],
   "source": [
    "from collections import Counter\n",
    "\n",
    "num_columns = ['National_Audience', 'National_Sales', 'Seoul_Audience','Seoul_Sales']\n",
    "\n",
    "print(data.shape)\n",
    "\n",
    "test = []\n",
    "columns_0_count  = pd.DataFrame()\n",
    "columns_0_count['column_name'] = num_columns\n",
    "\n",
    "print(\"0 values\")\n",
    "for i in num_columns:\n",
    "    print(i, ':' ,Counter(data[i])[0])\n",
    "    test.append(Counter(data[i])[0])\n",
    "\n",
    "print(\"-1 values(null)\")\n",
    "for i in num_columns:\n",
    "    print(i, ':' ,Counter(data[i])[-1])\n",
    "    \n",
    "columns_0_count['count'] = test"
   ]
  },
  {
   "cell_type": "code",
   "execution_count": 24,
   "metadata": {},
   "outputs": [
    {
     "data": {
      "image/png": "[encoded data removed]",
      "text/plain": [
       "<Figure size 576x576 with 1 Axes>"
      ]
     },
     "metadata": {
      "needs_background": "light"
     },
     "output_type": "display_data"
    }
   ],
   "source": [
    "columns_0_count\n",
    "fig, ax = plt.subplots(figsize=(8, 8))\n",
    "sns.barplot(x=columns_0_count['column_name'], y=columns_0_count['count'])\n",
    "plt.show()\n"
   ]
  },
  {
   "cell_type": "markdown",
   "metadata": {},
   "source": [
    "해당 열의 0 값이 2가지 의미를 가지고 있습니다.  \n",
    "실제로 0인지와 통계를 받지못해서 0인 경우가 있습니다.  \n",
    "해당 기준의 부재로 0을 다른 값으로 채우는 것은 힘들 것 같습니다."
   ]
  },
  {
   "cell_type": "code",
   "execution_count": 25,
   "metadata": {},
   "outputs": [
    {
     "data": {
      "text/html": [
       "<div>\n",
       "<style scoped>\n",
       "    .dataframe tbody tr th:only-of-type {\n",
       "        vertical-align: middle;\n",
       "    }\n",
       "\n",
       "    .dataframe tbody tr th {\n",
       "        vertical-align: top;\n",
       "    }\n",
       "\n",
       "    .dataframe thead th {\n",
       "        text-align: right;\n",
       "    }\n",
       "</style>\n",
       "<table border=\"1\" class=\"dataframe\">\n",
       "  <thead>\n",
       "    <tr style=\"text-align: right;\">\n",
       "      <th></th>\n",
       "      <th>ID</th>\n",
       "      <th>Movie_Name</th>\n",
       "      <th>Director</th>\n",
       "      <th>Production_Company</th>\n",
       "      <th>Import_Company</th>\n",
       "      <th>Distributing_Agency</th>\n",
       "      <th>Release_Date</th>\n",
       "      <th>Movie_Type</th>\n",
       "      <th>Movie_Form</th>\n",
       "      <th>Nationality</th>\n",
       "      <th>...</th>\n",
       "      <th>National_Sales</th>\n",
       "      <th>National_Audience</th>\n",
       "      <th>Seoul_Sales</th>\n",
       "      <th>Seoul_Audience</th>\n",
       "      <th>Genre</th>\n",
       "      <th>Rating</th>\n",
       "      <th>Movie_Classification</th>\n",
       "      <th>year</th>\n",
       "      <th>month</th>\n",
       "      <th>day</th>\n",
       "    </tr>\n",
       "  </thead>\n",
       "  <tbody>\n",
       "    <tr>\n",
       "      <th>0</th>\n",
       "      <td>1</td>\n",
       "      <td>명량</td>\n",
       "      <td>김한민</td>\n",
       "      <td>(주)빅스톤픽쳐스</td>\n",
       "      <td>No_Import_Company</td>\n",
       "      <td>(주)씨제이이엔엠</td>\n",
       "      <td>2014-07-30</td>\n",
       "      <td>개봉영화</td>\n",
       "      <td>장편</td>\n",
       "      <td>한국</td>\n",
       "      <td>...</td>\n",
       "      <td>1.357484e+11</td>\n",
       "      <td>17613682.0</td>\n",
       "      <td>3.312123e+10</td>\n",
       "      <td>4163666.0</td>\n",
       "      <td>사극</td>\n",
       "      <td>15</td>\n",
       "      <td>일반영화</td>\n",
       "      <td>2014.0</td>\n",
       "      <td>7.0</td>\n",
       "      <td>30.0</td>\n",
       "    </tr>\n",
       "    <tr>\n",
       "      <th>1</th>\n",
       "      <td>2</td>\n",
       "      <td>아바타</td>\n",
       "      <td>제임스 카메론</td>\n",
       "      <td>이십세기폭스필름코퍼레이션</td>\n",
       "      <td>주식회사 해리슨앤컴퍼니,이십세기폭스코리아(주)</td>\n",
       "      <td>주식회사 해리슨앤컴퍼니,이십세기폭스코리아(주)</td>\n",
       "      <td>2009-12-17</td>\n",
       "      <td>개봉영화</td>\n",
       "      <td>장편</td>\n",
       "      <td>미국</td>\n",
       "      <td>...</td>\n",
       "      <td>1.284471e+11</td>\n",
       "      <td>13624328.0</td>\n",
       "      <td>4.054752e+10</td>\n",
       "      <td>3993374.0</td>\n",
       "      <td>SF</td>\n",
       "      <td>12</td>\n",
       "      <td>독립/예술영화</td>\n",
       "      <td>2009.0</td>\n",
       "      <td>12.0</td>\n",
       "      <td>17.0</td>\n",
       "    </tr>\n",
       "    <tr>\n",
       "      <th>2</th>\n",
       "      <td>3</td>\n",
       "      <td>왕의 남자</td>\n",
       "      <td>이준익</td>\n",
       "      <td>(주)씨네월드,(주)이글픽쳐스</td>\n",
       "      <td>No_Import_Company</td>\n",
       "      <td>(주)시네마서비스</td>\n",
       "      <td>2005-12-29</td>\n",
       "      <td>개봉영화</td>\n",
       "      <td>장편</td>\n",
       "      <td>한국</td>\n",
       "      <td>...</td>\n",
       "      <td>0.000000e+00</td>\n",
       "      <td>12302831.0</td>\n",
       "      <td>0.000000e+00</td>\n",
       "      <td>3660842.0</td>\n",
       "      <td>드라마</td>\n",
       "      <td>15</td>\n",
       "      <td>일반영화</td>\n",
       "      <td>2005.0</td>\n",
       "      <td>12.0</td>\n",
       "      <td>29.0</td>\n",
       "    </tr>\n",
       "    <tr>\n",
       "      <th>3</th>\n",
       "      <td>4</td>\n",
       "      <td>극한직업</td>\n",
       "      <td>이병헌</td>\n",
       "      <td>(주)어바웃잇,영화사 해그림 주식회사,(주)씨제이이엔엠</td>\n",
       "      <td>No_Import_Company</td>\n",
       "      <td>(주)씨제이이엔엠</td>\n",
       "      <td>2019-01-23</td>\n",
       "      <td>개봉영화</td>\n",
       "      <td>장편</td>\n",
       "      <td>한국</td>\n",
       "      <td>...</td>\n",
       "      <td>1.396480e+11</td>\n",
       "      <td>16264944.0</td>\n",
       "      <td>3.185866e+10</td>\n",
       "      <td>3638287.0</td>\n",
       "      <td>코미디</td>\n",
       "      <td>15</td>\n",
       "      <td>일반영화</td>\n",
       "      <td>2019.0</td>\n",
       "      <td>1.0</td>\n",
       "      <td>23.0</td>\n",
       "    </tr>\n",
       "    <tr>\n",
       "      <th>4</th>\n",
       "      <td>5</td>\n",
       "      <td>어벤져스: 엔드게임</td>\n",
       "      <td>안소니 루소,조 루소</td>\n",
       "      <td>No_Production_Company</td>\n",
       "      <td>월트디즈니컴퍼니코리아 유한책임회사</td>\n",
       "      <td>월트디즈니컴퍼니코리아 유한책임회사</td>\n",
       "      <td>2019-04-24</td>\n",
       "      <td>개봉영화</td>\n",
       "      <td>장편</td>\n",
       "      <td>미국</td>\n",
       "      <td>...</td>\n",
       "      <td>1.221827e+11</td>\n",
       "      <td>13934592.0</td>\n",
       "      <td>3.357714e+10</td>\n",
       "      <td>3597963.0</td>\n",
       "      <td>액션</td>\n",
       "      <td>12</td>\n",
       "      <td>일반영화</td>\n",
       "      <td>2019.0</td>\n",
       "      <td>4.0</td>\n",
       "      <td>24.0</td>\n",
       "    </tr>\n",
       "  </tbody>\n",
       "</table>\n",
       "<p>5 rows × 21 columns</p>\n",
       "</div>"
      ],
      "text/plain": [
       "   ID  Movie_Name     Director              Production_Company  \\\n",
       "0   1          명량          김한민                       (주)빅스톤픽쳐스   \n",
       "1   2         아바타      제임스 카메론                   이십세기폭스필름코퍼레이션   \n",
       "2   3       왕의 남자          이준익                (주)씨네월드,(주)이글픽쳐스   \n",
       "3   4        극한직업          이병헌  (주)어바웃잇,영화사 해그림 주식회사,(주)씨제이이엔엠   \n",
       "4   5  어벤져스: 엔드게임  안소니 루소,조 루소           No_Production_Company   \n",
       "\n",
       "              Import_Company        Distributing_Agency Release_Date  \\\n",
       "0          No_Import_Company                  (주)씨제이이엔엠   2014-07-30   \n",
       "1  주식회사 해리슨앤컴퍼니,이십세기폭스코리아(주)  주식회사 해리슨앤컴퍼니,이십세기폭스코리아(주)   2009-12-17   \n",
       "2          No_Import_Company                  (주)시네마서비스   2005-12-29   \n",
       "3          No_Import_Company                  (주)씨제이이엔엠   2019-01-23   \n",
       "4         월트디즈니컴퍼니코리아 유한책임회사         월트디즈니컴퍼니코리아 유한책임회사   2019-04-24   \n",
       "\n",
       "  Movie_Type Movie_Form Nationality  ...  National_Sales  National_Audience  \\\n",
       "0       개봉영화         장편          한국  ...    1.357484e+11         17613682.0   \n",
       "1       개봉영화         장편          미국  ...    1.284471e+11         13624328.0   \n",
       "2       개봉영화         장편          한국  ...    0.000000e+00         12302831.0   \n",
       "3       개봉영화         장편          한국  ...    1.396480e+11         16264944.0   \n",
       "4       개봉영화         장편          미국  ...    1.221827e+11         13934592.0   \n",
       "\n",
       "    Seoul_Sales  Seoul_Audience  Genre Rating Movie_Classification    year  \\\n",
       "0  3.312123e+10       4163666.0     사극     15                 일반영화  2014.0   \n",
       "1  4.054752e+10       3993374.0     SF     12              독립/예술영화  2009.0   \n",
       "2  0.000000e+00       3660842.0    드라마     15                 일반영화  2005.0   \n",
       "3  3.185866e+10       3638287.0    코미디     15                 일반영화  2019.0   \n",
       "4  3.357714e+10       3597963.0     액션     12                 일반영화  2019.0   \n",
       "\n",
       "   month   day  \n",
       "0    7.0  30.0  \n",
       "1   12.0  17.0  \n",
       "2   12.0  29.0  \n",
       "3    1.0  23.0  \n",
       "4    4.0  24.0  \n",
       "\n",
       "[5 rows x 21 columns]"
      ]
     },
     "execution_count": 25,
     "metadata": {},
     "output_type": "execute_result"
    }
   ],
   "source": [
    "data.head()"
   ]
  },
  {
   "cell_type": "markdown",
   "metadata": {},
   "source": [
    "meta-data를 찾아보니  \n",
    "한국영화연감(1971~2010) 통계를 기준으로 정리한 것이며,  \n",
    "2011년부터는 통합전산망을 기준으로 일정한 주기(매월, 매년)로 마감 처리하여 산출되는 통계정보입니다. 라 되어있으니  \n",
    "제대로 된 Data는 2011부터 입니다."
   ]
  },
  {
   "cell_type": "code",
   "execution_count": 26,
   "metadata": {},
   "outputs": [
    {
     "data": {
      "text/html": [
       "<div>\n",
       "<style scoped>\n",
       "    .dataframe tbody tr th:only-of-type {\n",
       "        vertical-align: middle;\n",
       "    }\n",
       "\n",
       "    .dataframe tbody tr th {\n",
       "        vertical-align: top;\n",
       "    }\n",
       "\n",
       "    .dataframe thead th {\n",
       "        text-align: right;\n",
       "    }\n",
       "</style>\n",
       "<table border=\"1\" class=\"dataframe\">\n",
       "  <thead>\n",
       "    <tr style=\"text-align: right;\">\n",
       "      <th></th>\n",
       "      <th>ID</th>\n",
       "      <th>Movie_Name</th>\n",
       "      <th>Director</th>\n",
       "      <th>Production_Company</th>\n",
       "      <th>Import_Company</th>\n",
       "      <th>Distributing_Agency</th>\n",
       "      <th>Release_Date</th>\n",
       "      <th>Movie_Type</th>\n",
       "      <th>Movie_Form</th>\n",
       "      <th>Nationality</th>\n",
       "      <th>...</th>\n",
       "      <th>National_Sales</th>\n",
       "      <th>National_Audience</th>\n",
       "      <th>Seoul_Sales</th>\n",
       "      <th>Seoul_Audience</th>\n",
       "      <th>Genre</th>\n",
       "      <th>Rating</th>\n",
       "      <th>Movie_Classification</th>\n",
       "      <th>year</th>\n",
       "      <th>month</th>\n",
       "      <th>day</th>\n",
       "    </tr>\n",
       "  </thead>\n",
       "  <tbody>\n",
       "    <tr>\n",
       "      <th>0</th>\n",
       "      <td>1</td>\n",
       "      <td>명량</td>\n",
       "      <td>김한민</td>\n",
       "      <td>(주)빅스톤픽쳐스</td>\n",
       "      <td>No_Import_Company</td>\n",
       "      <td>(주)씨제이이엔엠</td>\n",
       "      <td>2014-07-30</td>\n",
       "      <td>개봉영화</td>\n",
       "      <td>장편</td>\n",
       "      <td>한국</td>\n",
       "      <td>...</td>\n",
       "      <td>1.357484e+11</td>\n",
       "      <td>17613682.0</td>\n",
       "      <td>3.312123e+10</td>\n",
       "      <td>4163666.0</td>\n",
       "      <td>사극</td>\n",
       "      <td>15</td>\n",
       "      <td>일반영화</td>\n",
       "      <td>2014.0</td>\n",
       "      <td>7.0</td>\n",
       "      <td>30.0</td>\n",
       "    </tr>\n",
       "    <tr>\n",
       "      <th>3</th>\n",
       "      <td>4</td>\n",
       "      <td>극한직업</td>\n",
       "      <td>이병헌</td>\n",
       "      <td>(주)어바웃잇,영화사 해그림 주식회사,(주)씨제이이엔엠</td>\n",
       "      <td>No_Import_Company</td>\n",
       "      <td>(주)씨제이이엔엠</td>\n",
       "      <td>2019-01-23</td>\n",
       "      <td>개봉영화</td>\n",
       "      <td>장편</td>\n",
       "      <td>한국</td>\n",
       "      <td>...</td>\n",
       "      <td>1.396480e+11</td>\n",
       "      <td>16264944.0</td>\n",
       "      <td>3.185866e+10</td>\n",
       "      <td>3638287.0</td>\n",
       "      <td>코미디</td>\n",
       "      <td>15</td>\n",
       "      <td>일반영화</td>\n",
       "      <td>2019.0</td>\n",
       "      <td>1.0</td>\n",
       "      <td>23.0</td>\n",
       "    </tr>\n",
       "    <tr>\n",
       "      <th>4</th>\n",
       "      <td>5</td>\n",
       "      <td>어벤져스: 엔드게임</td>\n",
       "      <td>안소니 루소,조 루소</td>\n",
       "      <td>No_Production_Company</td>\n",
       "      <td>월트디즈니컴퍼니코리아 유한책임회사</td>\n",
       "      <td>월트디즈니컴퍼니코리아 유한책임회사</td>\n",
       "      <td>2019-04-24</td>\n",
       "      <td>개봉영화</td>\n",
       "      <td>장편</td>\n",
       "      <td>미국</td>\n",
       "      <td>...</td>\n",
       "      <td>1.221827e+11</td>\n",
       "      <td>13934592.0</td>\n",
       "      <td>3.357714e+10</td>\n",
       "      <td>3597963.0</td>\n",
       "      <td>액션</td>\n",
       "      <td>12</td>\n",
       "      <td>일반영화</td>\n",
       "      <td>2019.0</td>\n",
       "      <td>4.0</td>\n",
       "      <td>24.0</td>\n",
       "    </tr>\n",
       "    <tr>\n",
       "      <th>7</th>\n",
       "      <td>8</td>\n",
       "      <td>도둑들</td>\n",
       "      <td>최동훈</td>\n",
       "      <td>(주)케이퍼필름</td>\n",
       "      <td>No_Import_Company</td>\n",
       "      <td>(주)쇼박스</td>\n",
       "      <td>2012-07-25</td>\n",
       "      <td>개봉영화</td>\n",
       "      <td>장편</td>\n",
       "      <td>한국</td>\n",
       "      <td>...</td>\n",
       "      <td>9.366557e+10</td>\n",
       "      <td>12983330.0</td>\n",
       "      <td>2.608943e+10</td>\n",
       "      <td>3468906.0</td>\n",
       "      <td>액션</td>\n",
       "      <td>15</td>\n",
       "      <td>일반영화</td>\n",
       "      <td>2012.0</td>\n",
       "      <td>7.0</td>\n",
       "      <td>25.0</td>\n",
       "    </tr>\n",
       "    <tr>\n",
       "      <th>8</th>\n",
       "      <td>9</td>\n",
       "      <td>알라딘</td>\n",
       "      <td>가이 리치</td>\n",
       "      <td>No_Production_Company</td>\n",
       "      <td>월트디즈니컴퍼니코리아 유한책임회사</td>\n",
       "      <td>월트디즈니컴퍼니코리아 유한책임회사</td>\n",
       "      <td>2019-05-23</td>\n",
       "      <td>개봉영화</td>\n",
       "      <td>장편</td>\n",
       "      <td>미국</td>\n",
       "      <td>...</td>\n",
       "      <td>1.069836e+11</td>\n",
       "      <td>12555894.0</td>\n",
       "      <td>3.021891e+10</td>\n",
       "      <td>3377404.0</td>\n",
       "      <td>어드벤처</td>\n",
       "      <td>ALL</td>\n",
       "      <td>일반영화</td>\n",
       "      <td>2019.0</td>\n",
       "      <td>5.0</td>\n",
       "      <td>23.0</td>\n",
       "    </tr>\n",
       "    <tr>\n",
       "      <th>...</th>\n",
       "      <td>...</td>\n",
       "      <td>...</td>\n",
       "      <td>...</td>\n",
       "      <td>...</td>\n",
       "      <td>...</td>\n",
       "      <td>...</td>\n",
       "      <td>...</td>\n",
       "      <td>...</td>\n",
       "      <td>...</td>\n",
       "      <td>...</td>\n",
       "      <td>...</td>\n",
       "      <td>...</td>\n",
       "      <td>...</td>\n",
       "      <td>...</td>\n",
       "      <td>...</td>\n",
       "      <td>...</td>\n",
       "      <td>...</td>\n",
       "      <td>...</td>\n",
       "      <td>...</td>\n",
       "      <td>...</td>\n",
       "      <td>...</td>\n",
       "    </tr>\n",
       "    <tr>\n",
       "      <th>26192</th>\n",
       "      <td>26193</td>\n",
       "      <td>T-34</td>\n",
       "      <td>알렉세이 시도로프</td>\n",
       "      <td>No_Production_Company</td>\n",
       "      <td>㈜코리아스크린</td>\n",
       "      <td>㈜코리아스크린</td>\n",
       "      <td>2019-06-27</td>\n",
       "      <td>개봉영화</td>\n",
       "      <td>장편</td>\n",
       "      <td>러시아</td>\n",
       "      <td>...</td>\n",
       "      <td>5.000000e+03</td>\n",
       "      <td>1.0</td>\n",
       "      <td>0.000000e+00</td>\n",
       "      <td>0.0</td>\n",
       "      <td>전쟁</td>\n",
       "      <td>12</td>\n",
       "      <td>독립/예술영화</td>\n",
       "      <td>2019.0</td>\n",
       "      <td>6.0</td>\n",
       "      <td>27.0</td>\n",
       "    </tr>\n",
       "    <tr>\n",
       "      <th>26193</th>\n",
       "      <td>26194</td>\n",
       "      <td>V/H/S/2: 악마를 부르는 비디오</td>\n",
       "      <td>가렛 에반스,아담 윈가드,에두아르도 산체스,그렉 헤일</td>\n",
       "      <td>No_Production_Company</td>\n",
       "      <td>(주)노이에스</td>\n",
       "      <td>(주)노이에스</td>\n",
       "      <td>2013-08-14</td>\n",
       "      <td>개봉영화</td>\n",
       "      <td>장편</td>\n",
       "      <td>미국</td>\n",
       "      <td>...</td>\n",
       "      <td>3.000000e+05</td>\n",
       "      <td>75.0</td>\n",
       "      <td>0.000000e+00</td>\n",
       "      <td>0.0</td>\n",
       "      <td>공포(호러)</td>\n",
       "      <td>18</td>\n",
       "      <td>일반영화</td>\n",
       "      <td>2013.0</td>\n",
       "      <td>8.0</td>\n",
       "      <td>14.0</td>\n",
       "    </tr>\n",
       "    <tr>\n",
       "      <th>26194</th>\n",
       "      <td>26195</td>\n",
       "      <td>VIP전용 여자</td>\n",
       "      <td>카네다 사토시</td>\n",
       "      <td>No_Production_Company</td>\n",
       "      <td>(주)도키엔터테인먼트</td>\n",
       "      <td>(주)도키엔터테인먼트</td>\n",
       "      <td>2016-12-01</td>\n",
       "      <td>개봉영화</td>\n",
       "      <td>장편</td>\n",
       "      <td>일본</td>\n",
       "      <td>...</td>\n",
       "      <td>8.000000e+03</td>\n",
       "      <td>1.0</td>\n",
       "      <td>0.000000e+00</td>\n",
       "      <td>0.0</td>\n",
       "      <td>성인물(에로)</td>\n",
       "      <td>18</td>\n",
       "      <td>일반영화</td>\n",
       "      <td>2016.0</td>\n",
       "      <td>12.0</td>\n",
       "      <td>1.0</td>\n",
       "    </tr>\n",
       "    <tr>\n",
       "      <th>26195</th>\n",
       "      <td>26196</td>\n",
       "      <td>VJ의 은밀한 사생활</td>\n",
       "      <td>오카다 히로</td>\n",
       "      <td>No_Production_Company</td>\n",
       "      <td>(주)영진크리에이티브</td>\n",
       "      <td>(주)영진크리에이티브</td>\n",
       "      <td>2017-12-25</td>\n",
       "      <td>개봉영화</td>\n",
       "      <td>장편</td>\n",
       "      <td>일본</td>\n",
       "      <td>...</td>\n",
       "      <td>6.000000e+03</td>\n",
       "      <td>1.0</td>\n",
       "      <td>0.000000e+00</td>\n",
       "      <td>0.0</td>\n",
       "      <td>멜로/로맨스</td>\n",
       "      <td>18</td>\n",
       "      <td>일반영화</td>\n",
       "      <td>2017.0</td>\n",
       "      <td>12.0</td>\n",
       "      <td>25.0</td>\n",
       "    </tr>\n",
       "    <tr>\n",
       "      <th>26196</th>\n",
       "      <td>26197</td>\n",
       "      <td>av감독의 아내</td>\n",
       "      <td>쿠도 마사노리</td>\n",
       "      <td>No_Production_Company</td>\n",
       "      <td>(주)도키엔터테인먼트</td>\n",
       "      <td>(주)도키엔터테인먼트</td>\n",
       "      <td>2016-12-22</td>\n",
       "      <td>개봉영화</td>\n",
       "      <td>장편</td>\n",
       "      <td>일본</td>\n",
       "      <td>...</td>\n",
       "      <td>8.000000e+03</td>\n",
       "      <td>1.0</td>\n",
       "      <td>0.000000e+00</td>\n",
       "      <td>0.0</td>\n",
       "      <td>성인물(에로)</td>\n",
       "      <td>18</td>\n",
       "      <td>일반영화</td>\n",
       "      <td>2016.0</td>\n",
       "      <td>12.0</td>\n",
       "      <td>22.0</td>\n",
       "    </tr>\n",
       "  </tbody>\n",
       "</table>\n",
       "<p>16103 rows × 21 columns</p>\n",
       "</div>"
      ],
      "text/plain": [
       "          ID            Movie_Name                       Director  \\\n",
       "0          1                    명량                            김한민   \n",
       "3          4                  극한직업                            이병헌   \n",
       "4          5            어벤져스: 엔드게임                    안소니 루소,조 루소   \n",
       "7          8                   도둑들                            최동훈   \n",
       "8          9                   알라딘                          가이 리치   \n",
       "...      ...                   ...                            ...   \n",
       "26192  26193                  T-34                      알렉세이 시도로프   \n",
       "26193  26194  V/H/S/2: 악마를 부르는 비디오  가렛 에반스,아담 윈가드,에두아르도 산체스,그렉 헤일   \n",
       "26194  26195              VIP전용 여자                        카네다 사토시   \n",
       "26195  26196           VJ의 은밀한 사생활                         오카다 히로   \n",
       "26196  26197              av감독의 아내                        쿠도 마사노리   \n",
       "\n",
       "                   Production_Company      Import_Company Distributing_Agency  \\\n",
       "0                           (주)빅스톤픽쳐스   No_Import_Company           (주)씨제이이엔엠   \n",
       "3      (주)어바웃잇,영화사 해그림 주식회사,(주)씨제이이엔엠   No_Import_Company           (주)씨제이이엔엠   \n",
       "4               No_Production_Company  월트디즈니컴퍼니코리아 유한책임회사  월트디즈니컴퍼니코리아 유한책임회사   \n",
       "7                            (주)케이퍼필름   No_Import_Company              (주)쇼박스   \n",
       "8               No_Production_Company  월트디즈니컴퍼니코리아 유한책임회사  월트디즈니컴퍼니코리아 유한책임회사   \n",
       "...                               ...                 ...                 ...   \n",
       "26192           No_Production_Company             ㈜코리아스크린             ㈜코리아스크린   \n",
       "26193           No_Production_Company             (주)노이에스             (주)노이에스   \n",
       "26194           No_Production_Company         (주)도키엔터테인먼트         (주)도키엔터테인먼트   \n",
       "26195           No_Production_Company         (주)영진크리에이티브         (주)영진크리에이티브   \n",
       "26196           No_Production_Company         (주)도키엔터테인먼트         (주)도키엔터테인먼트   \n",
       "\n",
       "      Release_Date Movie_Type Movie_Form Nationality  ...  National_Sales  \\\n",
       "0       2014-07-30       개봉영화         장편          한국  ...    1.357484e+11   \n",
       "3       2019-01-23       개봉영화         장편          한국  ...    1.396480e+11   \n",
       "4       2019-04-24       개봉영화         장편          미국  ...    1.221827e+11   \n",
       "7       2012-07-25       개봉영화         장편          한국  ...    9.366557e+10   \n",
       "8       2019-05-23       개봉영화         장편          미국  ...    1.069836e+11   \n",
       "...            ...        ...        ...         ...  ...             ...   \n",
       "26192   2019-06-27       개봉영화         장편         러시아  ...    5.000000e+03   \n",
       "26193   2013-08-14       개봉영화         장편          미국  ...    3.000000e+05   \n",
       "26194   2016-12-01       개봉영화         장편          일본  ...    8.000000e+03   \n",
       "26195   2017-12-25       개봉영화         장편          일본  ...    6.000000e+03   \n",
       "26196   2016-12-22       개봉영화         장편          일본  ...    8.000000e+03   \n",
       "\n",
       "       National_Audience   Seoul_Sales  Seoul_Audience    Genre Rating  \\\n",
       "0             17613682.0  3.312123e+10       4163666.0       사극     15   \n",
       "3             16264944.0  3.185866e+10       3638287.0      코미디     15   \n",
       "4             13934592.0  3.357714e+10       3597963.0       액션     12   \n",
       "7             12983330.0  2.608943e+10       3468906.0       액션     15   \n",
       "8             12555894.0  3.021891e+10       3377404.0     어드벤처    ALL   \n",
       "...                  ...           ...             ...      ...    ...   \n",
       "26192                1.0  0.000000e+00             0.0       전쟁     12   \n",
       "26193               75.0  0.000000e+00             0.0   공포(호러)     18   \n",
       "26194                1.0  0.000000e+00             0.0  성인물(에로)     18   \n",
       "26195                1.0  0.000000e+00             0.0   멜로/로맨스     18   \n",
       "26196                1.0  0.000000e+00             0.0  성인물(에로)     18   \n",
       "\n",
       "      Movie_Classification    year  month   day  \n",
       "0                     일반영화  2014.0    7.0  30.0  \n",
       "3                     일반영화  2019.0    1.0  23.0  \n",
       "4                     일반영화  2019.0    4.0  24.0  \n",
       "7                     일반영화  2012.0    7.0  25.0  \n",
       "8                     일반영화  2019.0    5.0  23.0  \n",
       "...                    ...     ...    ...   ...  \n",
       "26192              독립/예술영화  2019.0    6.0  27.0  \n",
       "26193                 일반영화  2013.0    8.0  14.0  \n",
       "26194                 일반영화  2016.0   12.0   1.0  \n",
       "26195                 일반영화  2017.0   12.0  25.0  \n",
       "26196                 일반영화  2016.0   12.0  22.0  \n",
       "\n",
       "[16103 rows x 21 columns]"
      ]
     },
     "execution_count": 26,
     "metadata": {},
     "output_type": "execute_result"
    }
   ],
   "source": [
    "data_new = data[data['year'] > 2010]\n",
    "data_new.shape\n",
    "data_new"
   ]
  },
  {
   "cell_type": "code",
   "execution_count": 27,
   "metadata": {},
   "outputs": [
    {
     "name": "stdout",
     "output_type": "stream",
     "text": [
      "0 values\n",
      "National_Audience : 3\n",
      "National_Sales : 3\n",
      "Seoul_Audience : 6536\n",
      "Seoul_Sales : 6530\n",
      "-1 values(null)\n",
      "National_Audience : 0\n",
      "National_Sales : 0\n",
      "Seoul_Audience : 0\n",
      "Seoul_Sales : 6\n"
     ]
    },
    {
     "data": {
      "image/png": "[encoded data removed]",
      "text/plain": [
       "<Figure size 576x576 with 1 Axes>"
      ]
     },
     "metadata": {
      "needs_background": "light"
     },
     "output_type": "display_data"
    }
   ],
   "source": [
    "num_columns = ['National_Audience', 'National_Sales', 'Seoul_Audience','Seoul_Sales']\n",
    "\n",
    "test = []\n",
    "columns_0_count  = pd.DataFrame()\n",
    "columns_0_count['column_name'] = num_columns\n",
    "\n",
    "print(\"0 values\")\n",
    "for i in num_columns:\n",
    "    print(i, ':' ,Counter(data_new[i])[0])\n",
    "    test.append(Counter(data_new[i])[0])\n",
    "\n",
    "print(\"-1 values(null)\")\n",
    "for i in num_columns:\n",
    "    print(i, ':' ,Counter(data_new[i])[-1])\n",
    "    \n",
    "columns_0_count['count'] = test\n",
    "\n",
    "fig, ax = plt.subplots(figsize=(8, 8))\n",
    "sns.barplot(x=columns_0_count['column_name'], y=columns_0_count['count'])\n",
    "plt.show()"
   ]
  },
  {
   "cell_type": "code",
   "execution_count": 28,
   "metadata": {},
   "outputs": [
    {
     "name": "stderr",
     "output_type": "stream",
     "text": [
      "/home/aiffel/.local/lib/python3.10/site-packages/IPython/core/pylabtools.py:151: UserWarning: Glyph 8722 (\\N{MINUS SIGN}) missing from current font.\n",
      "  fig.canvas.print_figure(bytes_io, **kw)\n"
     ]
    },
    {
     "data": {
      "image/png": "[encoded data removed]",
      "text/plain": [
       "<Figure size 1440x432 with 1 Axes>"
      ]
     },
     "metadata": {
      "needs_background": "light"
     },
     "output_type": "display_data"
    }
   ],
   "source": [
    "data_null = data_new.isnull().sum(axis = 0)\n",
    "data_null\n",
    "fig, ax = plt.subplots(constrained_layout=True, figsize = (20,6))\n",
    "sns.barplot(x=data_null.index, y=data_null.values)\n",
    "plt.show()"
   ]
  },
  {
   "cell_type": "markdown",
   "metadata": {},
   "source": [
    "### Graph"
   ]
  },
  {
   "cell_type": "code",
   "execution_count": 29,
   "metadata": {},
   "outputs": [
    {
     "data": {
      "image/png": "[encoded data removed]",
      "text/plain": [
       "<Figure size 1440x576 with 1 Axes>"
      ]
     },
     "metadata": {
      "needs_background": "light"
     },
     "output_type": "display_data"
    }
   ],
   "source": [
    "# Audience by genre in every 5~10 years\n",
    "fig, ax = plt.subplots(figsize=(20, 8))\n",
    "sns.barplot(x=data['Genre'], y=data['National_Audience'])\n",
    "plt.show()"
   ]
  },
  {
   "cell_type": "code",
   "execution_count": 30,
   "metadata": {},
   "outputs": [
    {
     "data": {
      "image/png": "[encoded data removed]",
      "text/plain": [
       "<Figure size 1440x576 with 1 Axes>"
      ]
     },
     "metadata": {
      "needs_background": "light"
     },
     "output_type": "display_data"
    }
   ],
   "source": [
    "fig, ax = plt.subplots(figsize=(20, 8))\n",
    "sns.countplot(x=data['Genre'])\n",
    "plt.show()"
   ]
  },
  {
   "cell_type": "code",
   "execution_count": 31,
   "metadata": {},
   "outputs": [
    {
     "data": {
      "image/png": "[encoded data removed]",
      "text/plain": [
       "<Figure size 1440x576 with 1 Axes>"
      ]
     },
     "metadata": {
      "needs_background": "light"
     },
     "output_type": "display_data"
    }
   ],
   "source": [
    "# Audience by genre in every 5~10 years\n",
    "fig, ax = plt.subplots(figsize=(20, 8))\n",
    "fig = sns.stripplot(x=data['Genre'], y=data['National_Audience'])\n",
    "plt.show()"
   ]
  }
 ],
 "metadata": {
  "kernelspec": {
   "display_name": "Python 3.10.4 64-bit",
   "language": "python",
   "name": "python3"
  },
  "language_info": {
   "codemirror_mode": {
    "name": "ipython",
    "version": 3
   },
   "file_extension": ".py",
   "mimetype": "text/x-python",
   "name": "python",
   "nbconvert_exporter": "python",
   "pygments_lexer": "ipython3",
   "version": "3.10.4"
  },
  "orig_nbformat": 4,
  "vscode": {
   "interpreter": {
    "hash": "916dbcbb3f70747c44a77c7bcd40155683ae19c65e1c03b4aa3499c5328201f1"
   }
  }
 },
 "nbformat": 4,
 "nbformat_minor": 2
}
